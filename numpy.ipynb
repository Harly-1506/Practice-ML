{
  "nbformat": 4,
  "nbformat_minor": 0,
  "metadata": {
    "colab": {
      "name": "numpy.ipynb",
      "provenance": [],
      "collapsed_sections": [],
      "toc_visible": true
    },
    "kernelspec": {
      "name": "python3",
      "display_name": "Python 3"
    },
    "language_info": {
      "name": "python"
    }
  },
  "cells": [
    {
      "cell_type": "markdown",
      "metadata": {
        "id": "W20pqWO-k_tv"
      },
      "source": [
        "## 1. Numpy package core của mọi tính toán trên python\n",
        "\n",
        "Trong python, khi làm việc với các tính toán đại số trên ma trận và véc tơ thì chúng ta chủ yếu sử dụng numpy. Numpy là viết tắt của cụm từ `numerical python` tức là thư viện số học của Python. Chính vì vậy các chức năng chính của thư viện này tập trung vào hỗ trợ và tối ưu các tính toán trên dữ liệu mảng nhiều chiều (_multidimensional array_). Numpy có những ưu điểm giúp cho nó hoạt động nhanh hơn trên python như:\n",
        "\n",
        "* Được phát triển trên interface của C nên khắc phục được sự chậm chạp của xử lý đơn luồng trên python.\n",
        "\n",
        "* Các dữ liệu trên numpy array được lưu trữ trên những vùng ô nhớ liền kề nên có tốc độ truy xuất rất nhanh.\n",
        "\n",
        "* Các hàm tính toán đại số được tối ưu để cho tốc độ cao.\n",
        "\n",
        "Ngoài ra numpy còn là thư viện được sử dụng nhiều trong các packages khác nằm trong hệ sinh thái machine learning của python như `scikit-learn, scipy, pandas, matplotlib` nên package này rất thuận tiện trong việc xử lý dữ liệu và huấn luyện mô hình.\n",
        "\n",
        "Qua bài viết này chúng a sẽ cùng tìm hiểu những chức năng chính của numpy để giúp nó trở thành một thư viện toàn năng được sử dụng trong các tính toán đại số trên python."
      ]
    },
    {
      "cell_type": "markdown",
      "metadata": {
        "id": "kLSPbDteyqpF"
      },
      "source": [
        "## 2. Khởi tạo một mảng trên numpy"
      ]
    },
    {
      "cell_type": "markdown",
      "metadata": {
        "id": "Hgm4hFNq8eB5"
      },
      "source": [
        "### 2.1. Khởi tạo ngay từ đầu\n",
        "\n",
        "Để khởi tạo một mảng trên numpy chúng ta sử dụng câu lệnh rất quen thuộc là `np.array()`. Numpy cho phép chúng ta khởi tạo mảng được cấu hình theo định dạng dữ liệu cụ thể như `float, interger, boolean, string`. Chúng ta cũng lưu ý rằng các phần tử của một mảng trong numpy phải đồng nhất về định dạng dữ liệu."
      ]
    },
    {
      "cell_type": "code",
      "metadata": {
        "colab": {
          "base_uri": "https://localhost:8080/"
        },
        "id": "ueBiUHr45Yv_",
        "outputId": "f2bfa175-c850-4f10-8504-3065934e9621"
      },
      "source": [
        "import numpy as np\n",
        "\n",
        "A = np.array([[1, 2],\n",
        "              [3, 4]])\n",
        "\n",
        "print(A)\n",
        "print(\"dtype of matrix A: \", A.dtype)"
      ],
      "execution_count": null,
      "outputs": [
        {
          "output_type": "stream",
          "text": [
            "[[1 2]\n",
            " [3 4]]\n",
            "dtype of matrix A:  int64\n"
          ],
          "name": "stdout"
        }
      ]
    },
    {
      "cell_type": "markdown",
      "metadata": {
        "id": "IJBtFhRw5saD"
      },
      "source": [
        "Ban đầu các phần tử của ma trận $\\mathbf{A}$ gồm toàn những giá trị nguyên. Chúng ta có thể xác định định dạng dữ liệu cho ma trận ngay tại lúc khởi tạo thông qua đối số `dtype`."
      ]
    },
    {
      "cell_type": "code",
      "metadata": {
        "colab": {
          "base_uri": "https://localhost:8080/"
        },
        "id": "E9id83lc5-TU",
        "outputId": "47455705-12e0-4a22-c180-7669b10f0c80"
      },
      "source": [
        "B = np.array([[1, 2],\n",
        "              [3, 4]], dtype=np.float32)\n",
        "\n",
        "print(B)\n",
        "print(\"dtype of matrix B: \", B.dtype)"
      ],
      "execution_count": null,
      "outputs": [
        {
          "output_type": "stream",
          "text": [
            "[[1. 2.]\n",
            " [3. 4.]]\n",
            "dtype of matrix B:  float32\n"
          ],
          "name": "stdout"
        }
      ]
    },
    {
      "cell_type": "markdown",
      "metadata": {
        "id": "eLk5C97v6JAD"
      },
      "source": [
        "Những mảng kiểu float thì giá trị các phần tử có thêm dấu `.` ở cuối để phân biệt với mảng số nguyên.\n",
        "\n",
        "Ngoài cách thay đổi trên, định dạng của ma trận cũng có thể được biến đổi thông qua hàm `A.astype()`. Đây là một hàm thuộc tính có sẵn ở mỗi mảng."
      ]
    },
    {
      "cell_type": "code",
      "metadata": {
        "colab": {
          "base_uri": "https://localhost:8080/"
        },
        "id": "WFwX9YBj6Ps5",
        "outputId": "949c8f71-6f24-4dcd-aad4-1584be86ccab"
      },
      "source": [
        "# Lưu ý phải gán A = A.astype() để lưu thay đổi cho A\n",
        "A = A.astype(np.float32)\n",
        "print(A.dtype)"
      ],
      "execution_count": null,
      "outputs": [
        {
          "output_type": "stream",
          "text": [
            "float32\n"
          ],
          "name": "stdout"
        }
      ]
    },
    {
      "cell_type": "markdown",
      "metadata": {
        "id": "ilO-04Ek7nN8"
      },
      "source": [
        "### 2.2. Khởi tạo ngẫu nhiên\n",
        "\n",
        "Nếu khởi tạo một ma trận nhỏ khoảng vài phần tử thì việc gõ tay là khả thi. Nhưng đối với những mảng kích thước lớn chúng ta sẽ không thể nhập hết toàn bộ các giá trị. Khi đó ta sẽ khởi tạo ngẫu nhiên cho những biến này.\n",
        "\n",
        "\n",
        "* `np.random.randn(d0, d1, d2,..., dn)`: $d_i$ là chiều thứ $i$ của mảng. Theo cách này các giá trị sẽ được lấy mẫu ngẫu nhiên từ phân phối chuẩn hoá (_normal distribution_) có trung bình bằng 0 và phương sai bằng 1."
      ]
    },
    {
      "cell_type": "code",
      "metadata": {
        "colab": {
          "base_uri": "https://localhost:8080/"
        },
        "id": "2JyPIQVs8JSh",
        "outputId": "6d3f215e-6a88-4439-9214-3731743e0ec4"
      },
      "source": [
        "R = np.random.randn(2, 3)\n",
        "print(R)"
      ],
      "execution_count": null,
      "outputs": [
        {
          "output_type": "stream",
          "text": [
            "[[-0.04120893  0.27515726 -0.9223509 ]\n",
            " [-0.53360328 -0.4773433  -0.9362858 ]]\n"
          ],
          "name": "stdout"
        }
      ]
    },
    {
      "cell_type": "markdown",
      "metadata": {
        "id": "Z-PCe_bk-HXK"
      },
      "source": [
        "* `np.random.normal(loc=0.0, scale=1.0, size=None)`: Khởi tạo mảng mà các phần tử của mảng tuân theo phân phối chuẩn (_Gaussian distribution_) với trung bình chính là `loc` và phương sai là `scale`. Phân phối Gaussian (hay còn gọi là phân phối chuẩn) là trường hợp tổng quát của phân phối chuẩn hoá, chúng có hàm mật độ xác suất `pdf` (_probability density function_) được tính dựa trên hai tham số trung bình và phương sai như sau:\n",
        "\n",
        "$$pdf(x; \\mu, \\sigma) = \\frac{\\exp(\\frac{-(x-\\mu)^2}{2\\sigma^2})}{\\sqrt{2\\pi \\sigma^2}}$$\n",
        "\n",
        "Chúng ta sẽ gặp lại phân phối này ở chương lý thuyết xác suất."
      ]
    },
    {
      "cell_type": "code",
      "metadata": {
        "colab": {
          "base_uri": "https://localhost:8080/"
        },
        "id": "X_o70HoM_ypH",
        "outputId": "e271c6a6-0fcc-44c7-9b19-d18129f9a9cd"
      },
      "source": [
        "R = np.random.normal(loc=1, scale=2, size=(2, 3))\n",
        "print(R)"
      ],
      "execution_count": null,
      "outputs": [
        {
          "output_type": "stream",
          "text": [
            "[[-0.17923077 -2.35668033 -1.66123026]\n",
            " [ 0.06546856  0.3525346   1.29610071]]\n"
          ],
          "name": "stdout"
        }
      ]
    },
    {
      "cell_type": "markdown",
      "metadata": {
        "id": "VmYmXAeN9q14"
      },
      "source": [
        "* `np.random.uniform(low=0.0, high=1.0, size=None)`: Các phần sẽ được khởi tạo theo phân phối đều trong khoảng từ `low` tới `high`. Trong phân phối đều thì mật độ xác suất tại mọi điểm là như nhau giữa `[low, high]`:\n",
        "\n",
        "$$pdf(x; low, high) = \\frac{1}{high-low}$$"
      ]
    },
    {
      "cell_type": "code",
      "metadata": {
        "colab": {
          "base_uri": "https://localhost:8080/"
        },
        "id": "PxEtBJ266hRw",
        "outputId": "00e03870-1361-4e19-8068-9e3135fb8d28"
      },
      "source": [
        "R = np.random.uniform(low=-1, high=1, size=(2, 3))\n",
        "print(R)"
      ],
      "execution_count": null,
      "outputs": [
        {
          "output_type": "stream",
          "text": [
            "[[-0.28348423 -0.49056584  0.26650475]\n",
            " [ 0.58951571  0.59409024  0.67260049]]\n"
          ],
          "name": "stdout"
        }
      ]
    },
    {
      "cell_type": "markdown",
      "metadata": {
        "id": "7SYdRjnkBpgX"
      },
      "source": [
        "Trong trường hợp bạn chỉ muốn sinh ngẫu nhiên đối với số nguyên thì có thể sử dụng hàm `np.randint()`"
      ]
    },
    {
      "cell_type": "code",
      "metadata": {
        "colab": {
          "base_uri": "https://localhost:8080/"
        },
        "id": "9GvqQ-0_Bz0x",
        "outputId": "69442179-4bc6-49b1-fef5-3915a5ec7923"
      },
      "source": [
        "R = np.random.randint(low=-5, high=5, size=(2, 3))\n",
        "print(R)"
      ],
      "execution_count": null,
      "outputs": [
        {
          "output_type": "stream",
          "text": [
            "[[ 0 -2 -3]\n",
            " [ 2  4 -3]]\n"
          ],
          "name": "stdout"
        }
      ]
    },
    {
      "cell_type": "markdown",
      "metadata": {
        "id": "NF9RtheDCXpb"
      },
      "source": [
        "Ngoài ra còn các khởi tạo ngẫu nhiên theo phân phối khác như `t-student, gamma, beta, chi-square, Fisher, ....`. Bạn đọc có thể sử dụng như list các hàm mình liệt kê bên dưới:\n",
        "\n",
        "* `np.random.standard_t(df, size=None)`: Phân phối t-student.\n",
        "* `np.random.chisquare(df, size=None)`: Phân phối Chi-square.\n",
        "* `np.random.f(dfnum, dfden, size=None)`: Phân phối Fisher.\n",
        "* `np.random.gamma(shape, scale=1.0, size=None)`: Phân phối gamma\n",
        "* `np.random.beta(a, b, size=None)`: Phân phối beta"
      ]
    },
    {
      "cell_type": "markdown",
      "metadata": {
        "id": "LWHTVwM9C4hB"
      },
      "source": [
        "# 3. Đọc và save numpy từ file"
      ]
    },
    {
      "cell_type": "markdown",
      "metadata": {
        "id": "wc8k1rWo8yep"
      },
      "source": [
        "## 3.1. Save numpy\n",
        "\n",
        "Chúng ta có thể lưu numpy dưới nhiều định dạng khác nhau như file `npy` và `txt`."
      ]
    },
    {
      "cell_type": "code",
      "metadata": {
        "colab": {
          "base_uri": "https://localhost:8080/"
        },
        "id": "oP30GUgi89_v",
        "outputId": "b13e9cf4-d87b-44e7-b986-5615f0650869"
      },
      "source": [
        "from google.colab import drive\n",
        "import os\n",
        "\n",
        "# Mount google driver\n",
        "drive.mount('/content/drive/')\n",
        "# os.chdir(\"drive/My Drive/mybook\")\n",
        "\n",
        "import numpy as np\n",
        "\n",
        "# Khởi tạo một mảng ngẫu nhiên A\n",
        "A = np.random.randn(3, 3)\n",
        "A"
      ],
      "execution_count": null,
      "outputs": [
        {
          "output_type": "stream",
          "text": [
            "Drive already mounted at /content/drive/; to attempt to forcibly remount, call drive.mount(\"/content/drive/\", force_remount=True).\n"
          ],
          "name": "stdout"
        },
        {
          "output_type": "execute_result",
          "data": {
            "text/plain": [
              "array([[ 0.5179425 , -1.83754281,  0.69376099],\n",
              "       [-0.92748074, -1.69666672,  1.12749797],\n",
              "       [ 0.75616651, -0.11945085, -0.68251897]])"
            ]
          },
          "metadata": {
            "tags": []
          },
          "execution_count": 9
        }
      ]
    },
    {
      "cell_type": "markdown",
      "metadata": {
        "id": "wyNE9CLk-Hnl"
      },
      "source": [
        "Save mảng A theo hàm `np.save()` và `np.savetxt()` có cú pháp:\n",
        "\n",
        "* `np.save(file, arr)`: Output là định dạng npy. Save được mọi tensor với số chiều tuỳ ý.\n",
        "* `np.savetxt(file, arr)`: Output là định dạng txt. Cách này ít phổ biến hơn vì ta chỉ save được mảng 1D và 2D.\n",
        "\n",
        "Trong các công thức trên thì `file` là đường link tới vị trí save và `arr` là mảng cần save."
      ]
    },
    {
      "cell_type": "code",
      "metadata": {
        "id": "aXX6RnWK-LYh"
      },
      "source": [
        "# Định dạng npy\n",
        "np.save('numpy_save/A', A)\n",
        "# Định dạng txt\n",
        "np.savetxt('numpy_save/A.txt', A)\n",
        "# List các file\n",
        "!ls -a numpy_save"
      ],
      "execution_count": null,
      "outputs": []
    },
    {
      "cell_type": "markdown",
      "metadata": {
        "id": "SIrNtbV78xLK"
      },
      "source": [
        "## 3.2. Load numpy từ file\n",
        "\n",
        "Sau khi save numpy, ta có thể load chúng lại theo hàm `np.load()` và `np.loadtxt()`."
      ]
    },
    {
      "cell_type": "code",
      "metadata": {
        "id": "pI_pk0HoLpap"
      },
      "source": [
        "A = np.load(\"numpy_save/A.npy\")\n",
        "print(A)"
      ],
      "execution_count": null,
      "outputs": []
    },
    {
      "cell_type": "code",
      "metadata": {
        "id": "kWE7CBtlA7wG"
      },
      "source": [
        "np.loadtxt(\"numpy_save/A.txt\")\n",
        "print(A)"
      ],
      "execution_count": null,
      "outputs": []
    },
    {
      "cell_type": "markdown",
      "metadata": {
        "id": "aYuk0WasC7Yl"
      },
      "source": [
        "## 3.3. convert mảng từ dataframe\n",
        "\n",
        "Trong nhiều trường hợp khi xây dựng mô hình chúng ta có thể lấy giá trị của mảng từ dataframe bằng cách gọi thuộc tính `df.values`."
      ]
    },
    {
      "cell_type": "code",
      "metadata": {
        "id": "RZW5iPRdCG-m"
      },
      "source": [
        "import pandas as pd\n",
        "\n",
        "df = pd.read_csv(\"numpy_save/A.txt\", header=None, sep=\" \")\n",
        "df"
      ],
      "execution_count": null,
      "outputs": []
    },
    {
      "cell_type": "code",
      "metadata": {
        "id": "NHys3DxQCS4P"
      },
      "source": [
        "A = df.values\n",
        "print(A)"
      ],
      "execution_count": null,
      "outputs": []
    },
    {
      "cell_type": "markdown",
      "metadata": {
        "id": "4oZgAMHyGah0"
      },
      "source": [
        "# 3. Truy cập mảng trên numpy\n",
        "\n",
        "Chúng ta có thể truy cập mảng con theo các chiều thành phần của mảng cha dựa vào khai báo indices trên từng chiều. Lưu ý rằng trong lập trình thì số thứ tự sẽ giảm 1 so với thực tế do theo qui ước của python thì STT (_số thứ tự_) bắt đầu từ 0. Do đó ở dưới khi mình nói đến STT thì bạn hiểu là mình đang nói tới STT trong lập trình và được giảm 1 so với thực tế. Ví dụ: dòng số 0 tức là dòng đầu tiên (số 1) trong thực tế.\n",
        "\n",
        "Để khai báo indices chúng ta có thể sử dụng slice indices được ngăn cách bởi dấu `:`. Slice indices giúp rút ngắn việc phải nhập từng indices. Nó rất phù hợp với các tình huống các vị trí cần truy cập là liên tục nhau. Bên dưới là 3 công thức slice indice thường sử dụng:\n",
        "\n",
        "* `indice_start:(indice_end+1)`: lấy toàn bộ các indices bắt đầu từ `indice_start` và kết thúc là `indice_end`. \n",
        "\n",
        "* `-num_indices:`: Lấy một số lượng `num_indices` ở vị trí cuối cùng. Ký hiệu `-num_indices` có thể hiểu là trước vị trí cuối cùng `num_indices` vị trí.\n",
        "\n",
        "* `:num_indices`: Lấy một số lượng `num_indices` ở vị trí đầu tiên.\n",
        "\n",
        "Trong trường hợp các vị trí là không liên tục thì ta có thể liệt kê ra các vị trí cần lấy ở từng chiều vào một list."
      ]
    },
    {
      "cell_type": "code",
      "metadata": {
        "id": "5cDv5hbqG9pS"
      },
      "source": [
        "import numpy as np \n",
        "X = np.array([[1, 2, 3, 4],\n",
        "              [4, 5, 6, 2],\n",
        "              [7, 8, 9, 1],\n",
        "              [2, 5, 1, 5]])"
      ],
      "execution_count": null,
      "outputs": []
    },
    {
      "cell_type": "markdown",
      "metadata": {
        "id": "STTsndobHBxv"
      },
      "source": [
        "Tiếp theo ta sẽ truy cập vào các phần tử của X. Bạn sẽ hình dung cách truy cập qua lần lượt các ví dụ bên dưới:"
      ]
    },
    {
      "cell_type": "code",
      "metadata": {
        "colab": {
          "base_uri": "https://localhost:8080/"
        },
        "id": "kQBLIdv3HGtS",
        "outputId": "f8c2bf92-b496-4563-ab8e-17aa7c738ca4"
      },
      "source": [
        "# Truy cập vào phần tử thuộc dòng 1 và cột 2\n",
        "print(X[1, 2])"
      ],
      "execution_count": null,
      "outputs": [
        {
          "output_type": "stream",
          "text": [
            "6\n"
          ],
          "name": "stdout"
        }
      ]
    },
    {
      "cell_type": "markdown",
      "metadata": {
        "id": "CcEnrZMLHcea"
      },
      "source": [
        "Khi truy cập theo slice indice thì vị trí kết thúc phải cộng thêm một. Tức là chúng ta cần truy cập các dòng có indice từ 1 đến 2 thì phải khai báo indice là `1:3`. Đây là một điều dễ bị nhầm lẫn đối với người mới bắt đầu lập trình mà chúng ta cần đặc biệt lưu ý."
      ]
    },
    {
      "cell_type": "code",
      "metadata": {
        "colab": {
          "base_uri": "https://localhost:8080/"
        },
        "id": "rExEFNIMHXW1",
        "outputId": "f5998e60-be48-44dd-8e9e-2991af86d67f"
      },
      "source": [
        "# Truy cập vào các dòng từ 1 đến 2 và các cột từ 1 đến 2\n",
        "print(X[1:3, 1:3])"
      ],
      "execution_count": null,
      "outputs": [
        {
          "output_type": "stream",
          "text": [
            "[[5 6]\n",
            " [8 9]]\n"
          ],
          "name": "stdout"
        }
      ]
    },
    {
      "cell_type": "code",
      "metadata": {
        "colab": {
          "base_uri": "https://localhost:8080/"
        },
        "id": "CZ6VPc6zHk9Z",
        "outputId": "f753731f-695c-4b44-ae14-3391bdaa94ca"
      },
      "source": [
        "# Truy cập vào 2 dòng, 2 cột đầu tiên\n",
        "print(X[:2, :2])"
      ],
      "execution_count": null,
      "outputs": [
        {
          "output_type": "stream",
          "text": [
            "[[1 2]\n",
            " [4 5]]\n"
          ],
          "name": "stdout"
        }
      ]
    },
    {
      "cell_type": "code",
      "metadata": {
        "colab": {
          "base_uri": "https://localhost:8080/"
        },
        "id": "UBBUC4WnHo6L",
        "outputId": "24181c34-37a2-4cc6-bd19-2b671415b4eb"
      },
      "source": [
        "# Truy cập vào 2 dòng, 2 cột cuối cùng\n",
        "print(X[-2:, -2:])"
      ],
      "execution_count": null,
      "outputs": [
        {
          "output_type": "stream",
          "text": [
            "[[9 1]\n",
            " [1 5]]\n"
          ],
          "name": "stdout"
        }
      ]
    },
    {
      "cell_type": "code",
      "metadata": {
        "colab": {
          "base_uri": "https://localhost:8080/"
        },
        "id": "errkC_TxHsO5",
        "outputId": "6a5976f1-21f4-41b6-d813-0ad419ac6140"
      },
      "source": [
        "# Truy cập vào dòng 0 và 2. Cách lấy indices không liên tục.\n",
        "print(X[[0, 2], :])"
      ],
      "execution_count": null,
      "outputs": [
        {
          "output_type": "stream",
          "text": [
            "[[1 2 3 4]\n",
            " [7 8 9 1]]\n"
          ],
          "name": "stdout"
        }
      ]
    },
    {
      "cell_type": "markdown",
      "metadata": {
        "id": "LG_yVuWTH0cE"
      },
      "source": [
        "# 4. Thay đổi shape của mảng\n",
        "\n"
      ]
    },
    {
      "cell_type": "markdown",
      "metadata": {
        "id": "ENkganqiy1O2"
      },
      "source": [
        "## 4.1. Reshape mảng\n",
        "\n",
        "Chúng ta có thể thay đổi shape cho mảng dựa vào câu lệnh `np.reshape()`. Hàm này vừa là một thuộc tính sẵn có trong mỗi mảng (tức là với ma tận A ta có thể gọi `A.reshape()`) vừa là hàm của numpy."
      ]
    },
    {
      "cell_type": "code",
      "metadata": {
        "colab": {
          "base_uri": "https://localhost:8080/"
        },
        "id": "g9EVI3iyII8c",
        "outputId": "c849b088-56c1-4f56-907c-5022c8205c1e"
      },
      "source": [
        "B = np.array(np.arange(12))\n",
        "print(\"B: \\n\", B)\n",
        "print(\"B.shape: \", B.shape)"
      ],
      "execution_count": null,
      "outputs": [
        {
          "output_type": "stream",
          "text": [
            "B: \n",
            " [ 0  1  2  3  4  5  6  7  8  9 10 11]\n",
            "B.shape:  (12,)\n"
          ],
          "name": "stdout"
        }
      ]
    },
    {
      "cell_type": "markdown",
      "metadata": {
        "id": "OvowngudIhEN"
      },
      "source": [
        "Mảng B là một véc tơ 1 chiều có độ dài là 12. Chúng ta có thể reshape mảng B thành một ma trận 2 dòng, 6 cột."
      ]
    },
    {
      "cell_type": "code",
      "metadata": {
        "colab": {
          "base_uri": "https://localhost:8080/"
        },
        "id": "9_znpjSzIuJj",
        "outputId": "746af463-b94d-4ec0-cf0c-a2fb9d8b2456"
      },
      "source": [
        "# dùng B.reshape()\n",
        "B.reshape(2, 6)"
      ],
      "execution_count": null,
      "outputs": [
        {
          "output_type": "execute_result",
          "data": {
            "text/plain": [
              "array([[ 0,  1,  2,  3,  4,  5],\n",
              "       [ 6,  7,  8,  9, 10, 11]])"
            ]
          },
          "metadata": {
            "tags": []
          },
          "execution_count": 17
        }
      ]
    },
    {
      "cell_type": "code",
      "metadata": {
        "id": "ll8miEQFI81a",
        "colab": {
          "base_uri": "https://localhost:8080/"
        },
        "outputId": "cc588331-1d79-4c20-ac22-98421198940a"
      },
      "source": [
        "# dùng np.reshape()\n",
        "np.reshape(B, (2, 6))"
      ],
      "execution_count": null,
      "outputs": [
        {
          "output_type": "execute_result",
          "data": {
            "text/plain": [
              "array([[ 0,  1,  2,  3,  4,  5],\n",
              "       [ 6,  7,  8,  9, 10, 11]])"
            ]
          },
          "metadata": {
            "tags": []
          },
          "execution_count": 18
        }
      ]
    },
    {
      "cell_type": "markdown",
      "metadata": {
        "id": "FmRWUlHgImy1"
      },
      "source": [
        "Trong một mảng có $n$ chiều, khi đã biết $n-1$ chiều thì chiều còn lại có thể tính ra được bằng cách chia tổng số phần tử cho tích của $n-1$ chiều. Do đó chúng ta có thể đánh dấu chiều chưa biết bằng -1 để numpy sẽ tự tính."
      ]
    },
    {
      "cell_type": "code",
      "metadata": {
        "colab": {
          "base_uri": "https://localhost:8080/"
        },
        "id": "4mTT1XH8JcuQ",
        "outputId": "56a175d1-2773-4dd3-9456-b7b999705bc0"
      },
      "source": [
        "B.reshape(2, -1)"
      ],
      "execution_count": null,
      "outputs": [
        {
          "output_type": "execute_result",
          "data": {
            "text/plain": [
              "array([[ 0,  1,  2,  3,  4,  5],\n",
              "       [ 6,  7,  8,  9, 10, 11]])"
            ]
          },
          "metadata": {
            "tags": []
          },
          "execution_count": 19
        }
      ]
    },
    {
      "cell_type": "code",
      "metadata": {
        "colab": {
          "base_uri": "https://localhost:8080/"
        },
        "id": "SvXrmKxlJe-o",
        "outputId": "54565165-aa8c-4f8c-e609-a06bb1cf8993"
      },
      "source": [
        "B = np.reshape(B, (2, -1))\n",
        "print(B)"
      ],
      "execution_count": null,
      "outputs": [
        {
          "output_type": "stream",
          "text": [
            "[[ 0  1  2  3  4  5]\n",
            " [ 6  7  8  9 10 11]]\n"
          ],
          "name": "stdout"
        }
      ]
    },
    {
      "cell_type": "markdown",
      "metadata": {
        "id": "B6Hdl0QlzEin"
      },
      "source": [
        "## 4.2. Chuyển vị các chiều\n",
        "\n",
        "Trong các mô hình deep learning chúng ta có rất nhiều những lựa chọn khác nhau về định dạng đầu vào của một tensor. Ví dụ như đối với dữ liệu ảnh thì có sự khác biệt về input mặc định giữa các framework như pytorch và tensorflow. Tensorflow chấp nhận ảnh đầu vào có các chiều được sắp xếp theo dạng `batch_size x width x height x channels` trong khi pytorch lại chấp nhận kiểu `batch_size x channels x width x height`.\n",
        "\n",
        "Chúng ta có thể hoán vị các chiều của mảng nhiều chiều bằng câu lệnh `np.transpose(arr, (d_i, d_j,..., d_n))`. Trong đó, arr là ma trận cần hoán vị chiều và `(d_i, d_j,...,d_n)` là thứ tự các chiều mới mà chúng ta hoán vị."
      ]
    },
    {
      "cell_type": "code",
      "metadata": {
        "colab": {
          "base_uri": "https://localhost:8080/"
        },
        "id": "S9Q47i9mzJxH",
        "outputId": "66b72760-c131-41f6-f378-f3fe62b90122"
      },
      "source": [
        "# Khởi một bức ảnh ngẫu nhiên có kích thước channels x width x height= 3 x 28 x 28\n",
        "A = np.random.randint(0, 255, size=(3, 28, 28))\n",
        "print(\"A.shape: \", A.shape)\n",
        "# Chuyển channels về cuối\n",
        "A = np.transpose(A, (1, 2, 0))\n",
        "print(\"A transpose shape: \", A.shape)"
      ],
      "execution_count": null,
      "outputs": [
        {
          "output_type": "stream",
          "text": [
            "A.shape:  (3, 28, 28)\n",
            "A transpose shape:  (28, 28, 3)\n"
          ],
          "name": "stdout"
        }
      ]
    },
    {
      "cell_type": "markdown",
      "metadata": {
        "id": "Y3zXgPYvy6X6"
      },
      "source": [
        "## 4.3. Concatenate và Stack hai mảng\n",
        "\n",
        "Giả sử bạn đang có rất nhiều bức ảnh khác nhau. Bạn muốn ghép các bức ảnh đó theo chiều `height` (một bức nằm trái và một bức nằm phải). Để thực hiện được điều này thì bạn cần tới câu lệnh concatenate."
      ]
    },
    {
      "cell_type": "code",
      "metadata": {
        "colab": {
          "base_uri": "https://localhost:8080/"
        },
        "id": "5cITccV-2xUk",
        "outputId": "3d89d2e0-3a65-4453-e115-0aa3a6bb4c61"
      },
      "source": [
        "A = np.random.randint(0, 255, size=(28, 28, 3))\n",
        "B = np.random.randint(0, 255, size=(28, 28, 3))\n",
        "print(\"A.shape:\", A.shape)\n",
        "print(\"B.shape:\", B.shape)\n",
        "AB = np.concatenate((A, B), axis=1)\n",
        "print(\"shape after concatenate: \", AB.shape)"
      ],
      "execution_count": null,
      "outputs": [
        {
          "output_type": "stream",
          "text": [
            "A.shape: (28, 28, 3)\n",
            "B.shape: (28, 28, 3)\n",
            "shape after concatenate:  (28, 56, 3)\n"
          ],
          "name": "stdout"
        }
      ]
    },
    {
      "cell_type": "markdown",
      "metadata": {
        "id": "5DxXk17G31ka"
      },
      "source": [
        "Ngoài ra muốn tạo một batch cho huấn luyện, trong batch đó gồm 2 ảnh là A và B thì chúng ta sử dụng câu lệnh stack."
      ]
    },
    {
      "cell_type": "code",
      "metadata": {
        "colab": {
          "base_uri": "https://localhost:8080/"
        },
        "id": "QFxTEexZ3rkG",
        "outputId": "30c38888-e2b6-4158-80c0-61a086d515d2"
      },
      "source": [
        "np.stack([A, B]).shape"
      ],
      "execution_count": null,
      "outputs": [
        {
          "output_type": "execute_result",
          "data": {
            "text/plain": [
              "(2, 28, 28, 3)"
            ]
          },
          "metadata": {
            "tags": []
          },
          "execution_count": 96
        }
      ]
    },
    {
      "cell_type": "code",
      "metadata": {
        "colab": {
          "base_uri": "https://localhost:8080/"
        },
        "id": "y-6mv0I83-_g",
        "outputId": "ec3d7bfd-3b3a-4620-9a5f-4fcea2b329d5"
      },
      "source": [
        "# Stack theo chiều vertical\n",
        "print(np.vstack([A, B]).shape)\n",
        "\n",
        "# Stack theo chiều horizontal\n",
        "print(np.hstack([A, B]).shape)"
      ],
      "execution_count": null,
      "outputs": [
        {
          "output_type": "stream",
          "text": [
            "(56, 28, 3)\n",
            "(28, 56, 3)\n"
          ],
          "name": "stdout"
        }
      ]
    },
    {
      "cell_type": "markdown",
      "metadata": {
        "id": "DJOTLo648gby"
      },
      "source": [
        "## 4.4. Mở rộng mảng\n",
        "\n",
        "Trong nhiều tình huống, sự khác biệt về số lượng các chiều trong mảng có thể dẫn tới những lỗi liên quan tới shape. Ví dụ: Chúng ta không thể nhân một mảng kích thước 3 chiều với một ma trận kích thước 2 chiều."
      ]
    },
    {
      "cell_type": "code",
      "metadata": {
        "id": "DFrRKnrM87mp"
      },
      "source": [
        "A = np.random.randint(0, 2, size=(1, 2, 3))\n",
        "B = np.random.randint(0, 2, size=(1, 3))\n",
        "\n",
        "# A.dot(B)"
      ],
      "execution_count": null,
      "outputs": []
    },
    {
      "cell_type": "markdown",
      "metadata": {
        "id": "OjKEVeSc-I1F"
      },
      "source": [
        "Khi đó chúng ta cần mở rộng mảng thêm một chiều ở vị trí trong cùng thì mới thực hiện được phép nhân. "
      ]
    },
    {
      "cell_type": "code",
      "metadata": {
        "colab": {
          "base_uri": "https://localhost:8080/"
        },
        "id": "aJhBccBE-e_z",
        "outputId": "8d918d59-403f-4a9d-8092-d92819d1c1bf"
      },
      "source": [
        "# Mở rộng mảng\n",
        "B = np.expand_dims(B, axis=-1)\n",
        "print(\"B new shape: \", B.shape)\n",
        "print(\"A.dot(B) shape: \", A.dot(B).shape)"
      ],
      "execution_count": null,
      "outputs": [
        {
          "output_type": "stream",
          "text": [
            "B new shape:  (1, 3, 1)\n",
            "A.dot(B) shape:  (1, 2, 1, 1)\n"
          ],
          "name": "stdout"
        }
      ]
    },
    {
      "cell_type": "markdown",
      "metadata": {
        "id": "GRIxD-DF-4Kg"
      },
      "source": [
        "Đối số `axis=-1` có nghĩa là ta sẽ mở rộng mảng tại chiều cuối cùng. Khi đó shape `(1, 3)` trở thành `(1, 3, 1)`."
      ]
    },
    {
      "cell_type": "markdown",
      "metadata": {
        "id": "j-Dof5RmJktr"
      },
      "source": [
        "# 5. Các hàm trên numpy\n"
      ]
    },
    {
      "cell_type": "markdown",
      "metadata": {
        "id": "gvy_4q1tLbbX"
      },
      "source": [
        "## 5.1. min, max, mean, sum\n",
        "Cũng giống như pandas, numpy cung cấp một loạt các hàm thống kê thông dụng theo chiều dòng hoặc cột như min, max, mean, sum. Trong tất cả các công thức bên dưới thì `axis=1` là theo dòng và `axis=0` là theo cột."
      ]
    },
    {
      "cell_type": "code",
      "metadata": {
        "colab": {
          "base_uri": "https://localhost:8080/"
        },
        "id": "GiU0iT8DJ0Om",
        "outputId": "36cafe7f-0d2d-4101-dc19-30f04cbcbc72"
      },
      "source": [
        "B = np.array([[ 0,  1,  2,  3,  4,  5],\n",
        "              [ 6,  7,  8,  9, 10, 11]])\n",
        "\n",
        "# Tìm ra phần tử nhỏ nhất của B\n",
        "B.min()"
      ],
      "execution_count": null,
      "outputs": [
        {
          "output_type": "execute_result",
          "data": {
            "text/plain": [
              "0"
            ]
          },
          "metadata": {
            "tags": []
          },
          "execution_count": 21
        }
      ]
    },
    {
      "cell_type": "code",
      "metadata": {
        "colab": {
          "base_uri": "https://localhost:8080/"
        },
        "id": "F4sQyOb1J7zg",
        "outputId": "8ca53bc4-a5df-4965-9c19-13b09e4ef5ff"
      },
      "source": [
        "# Tìm ra phần tử nhỏ nhất của B theo dòng\n",
        "B.min(axis=1)"
      ],
      "execution_count": null,
      "outputs": [
        {
          "output_type": "execute_result",
          "data": {
            "text/plain": [
              "array([0, 6])"
            ]
          },
          "metadata": {
            "tags": []
          },
          "execution_count": 22
        }
      ]
    },
    {
      "cell_type": "code",
      "metadata": {
        "colab": {
          "base_uri": "https://localhost:8080/"
        },
        "id": "dD-LGXvsKXPa",
        "outputId": "8508fd7b-a184-47fc-d97f-019a08f669bd"
      },
      "source": [
        "# Tìm ra phần tử nhỏ nhất của B theo cột\n",
        "B.min(axis=0)"
      ],
      "execution_count": null,
      "outputs": [
        {
          "output_type": "execute_result",
          "data": {
            "text/plain": [
              "array([0, 1, 2, 3, 4, 5])"
            ]
          },
          "metadata": {
            "tags": []
          },
          "execution_count": 23
        }
      ]
    },
    {
      "cell_type": "markdown",
      "metadata": {
        "id": "gf487uQ8J68U"
      },
      "source": [
        "Tương tự với các hàm còn lại là max, mean, sum"
      ]
    },
    {
      "cell_type": "code",
      "metadata": {
        "colab": {
          "base_uri": "https://localhost:8080/"
        },
        "id": "r0yQ5KWZJ3Qn",
        "outputId": "23e23aba-0abf-4156-8134-2fa890dcea99"
      },
      "source": [
        "print(B.max(axis=1))\n",
        "print(B.mean(axis=1))\n",
        "print(B.sum(axis=1))"
      ],
      "execution_count": null,
      "outputs": [
        {
          "output_type": "stream",
          "text": [
            "[ 5 11]\n",
            "[2.5 8.5]\n",
            "[15 51]\n"
          ],
          "name": "stdout"
        }
      ]
    },
    {
      "cell_type": "markdown",
      "metadata": {
        "id": "laaYtyDqK3k7"
      },
      "source": [
        "## 5.2. minimum, maximum\n",
        "\n",
        "Hàm minimum, maximum giúp tìm ra giá trị lớn nhất và nhỏ nhất ở cùng một vị trí giữa hai mảng cùng kích thước. Kết quả trả ra là một mảng có cùng kích thước nhưng có giá trị."
      ]
    },
    {
      "cell_type": "code",
      "metadata": {
        "colab": {
          "base_uri": "https://localhost:8080/"
        },
        "id": "OPQHOdtFLjYy",
        "outputId": "44776a8f-9a91-4159-b7a4-51dea81b6e7a"
      },
      "source": [
        "A = np.array([[1, 3, 6], \n",
        "              [2, 7, 9]])\n",
        "\n",
        "B = np.array([[0, 4, 5], \n",
        "              [1, 6, 10]])\n",
        "\n",
        "# Tìm các phần tử maximum của A và B ở cùng vị trí indice\n",
        "np.maximum(A, B)"
      ],
      "execution_count": null,
      "outputs": [
        {
          "output_type": "execute_result",
          "data": {
            "text/plain": [
              "array([[ 1,  4,  6],\n",
              "       [ 2,  7, 10]])"
            ]
          },
          "metadata": {
            "tags": []
          },
          "execution_count": 25
        }
      ]
    },
    {
      "cell_type": "code",
      "metadata": {
        "colab": {
          "base_uri": "https://localhost:8080/"
        },
        "id": "yso_sEqZMCsr",
        "outputId": "8f87a555-cabc-46a6-85ef-4f669561d926"
      },
      "source": [
        "# Tìm các phần tử minimum của A và B ở cùng vị trí indice\n",
        "np.minimum(A, B)"
      ],
      "execution_count": null,
      "outputs": [
        {
          "output_type": "execute_result",
          "data": {
            "text/plain": [
              "array([[0, 3, 5],\n",
              "       [1, 6, 9]])"
            ]
          },
          "metadata": {
            "tags": []
          },
          "execution_count": 26
        }
      ]
    },
    {
      "cell_type": "markdown",
      "metadata": {
        "id": "9-RxAFHQUAIl"
      },
      "source": [
        "## 5.3. argmax, argmin\n",
        "\n",
        "Hàm argmax và argmin thường xuyên được sử dụng trong Machine Learning vì chúng có tác dụng tìm ra các nhãn có xác suất là cao nhất."
      ]
    },
    {
      "cell_type": "code",
      "metadata": {
        "colab": {
          "base_uri": "https://localhost:8080/"
        },
        "id": "Qcxm8ehbUUkz",
        "outputId": "67dc702f-22e7-419a-e206-4c28d68224aa"
      },
      "source": [
        "# Tìm ra indice có giá trị lớn nhất của véc tơ\n",
        "A = np.array([1, 5, 3, 2, 4])\n",
        "np.argmax(A)"
      ],
      "execution_count": null,
      "outputs": [
        {
          "output_type": "execute_result",
          "data": {
            "text/plain": [
              "1"
            ]
          },
          "metadata": {
            "tags": []
          },
          "execution_count": 27
        }
      ]
    },
    {
      "cell_type": "code",
      "metadata": {
        "colab": {
          "base_uri": "https://localhost:8080/"
        },
        "id": "y4d0jwCKUl5H",
        "outputId": "5f3b548d-ad6a-41dd-d34f-fb7831b7983e"
      },
      "source": [
        "# Tìm ra indice có giá trị lớn nhất của các dòng\n",
        "A = np.array([[1, 2],\n",
        "              [3, 4],\n",
        "              [5, 0],\n",
        "              [2, 1]])\n",
        "\n",
        "np.argmax(A, axis=1)"
      ],
      "execution_count": null,
      "outputs": [
        {
          "output_type": "execute_result",
          "data": {
            "text/plain": [
              "array([1, 1, 0, 0])"
            ]
          },
          "metadata": {
            "tags": []
          },
          "execution_count": 28
        }
      ]
    },
    {
      "cell_type": "markdown",
      "metadata": {
        "id": "d0OXxBJ6VFH4"
      },
      "source": [
        "**Bài tập:** Cho ma trận $\\mathbf{B}$ bên dưới là đầu ra có kích thước `NxC`trong đó N là số quan sát và C là số classes. Mỗi dòng của ma trận là một phân phối xác suất của một quan sát. Thống kê kết quả nhãn thuộc về mỗi loại."
      ]
    },
    {
      "cell_type": "code",
      "metadata": {
        "id": "sbcU8t6MVnQ4"
      },
      "source": [
        "B = np.array([[0.1, 0.2, 0.7],\n",
        "              [0.6, 0.4, 0.0],\n",
        "              [0.1, 0.5, 0.4],\n",
        "              [0.3, 0.3, 0.4],\n",
        "              [0.1, 0.8, 0.1]])"
      ],
      "execution_count": null,
      "outputs": []
    },
    {
      "cell_type": "markdown",
      "metadata": {
        "id": "w5x2We8fVDC4"
      },
      "source": [
        "## 5.4. argsort\n",
        "\n",
        "Hàm argsort là hàm tìm ra indices được sắp xếp theo số thứ tự tăng dần của một mảng hoặc một véc tơ.\n",
        "\n",
        "`np.argsort(arr, ascending, axis)`"
      ]
    },
    {
      "cell_type": "code",
      "metadata": {
        "colab": {
          "base_uri": "https://localhost:8080/"
        },
        "id": "Nke-M0IbWGGm",
        "outputId": "ad6234aa-81e3-430d-a411-a8b84123b84b"
      },
      "source": [
        "# Tìm ra indice của các cột theo thứ tự tăng dần\n",
        "np.argsort(B, axis = 0)"
      ],
      "execution_count": null,
      "outputs": [
        {
          "output_type": "execute_result",
          "data": {
            "text/plain": [
              "array([[0, 0, 1],\n",
              "       [2, 3, 4],\n",
              "       [4, 1, 2],\n",
              "       [3, 2, 3],\n",
              "       [1, 4, 0]])"
            ]
          },
          "metadata": {
            "tags": []
          },
          "execution_count": 30
        }
      ]
    },
    {
      "cell_type": "code",
      "metadata": {
        "colab": {
          "base_uri": "https://localhost:8080/"
        },
        "id": "rEc9fx0cXG5S",
        "outputId": "2037e19c-fc4c-4e66-8a1d-213fd46591ec"
      },
      "source": [
        "# Tìm ra indice của các dòng theo thứ tự tăng dần\n",
        "np.argsort(B, axis = 1)"
      ],
      "execution_count": null,
      "outputs": [
        {
          "output_type": "execute_result",
          "data": {
            "text/plain": [
              "array([[0, 1, 2],\n",
              "       [2, 1, 0],\n",
              "       [0, 2, 1],\n",
              "       [0, 1, 2],\n",
              "       [0, 2, 1]])"
            ]
          },
          "metadata": {
            "tags": []
          },
          "execution_count": 31
        }
      ]
    },
    {
      "cell_type": "markdown",
      "metadata": {
        "id": "iotXI7xOXTCl"
      },
      "source": [
        "**Bài tập:** Với ma trận $\\mathbf{B}$ như trên, làm thế nào để tìm ra indice của các dòng hoặc các cột theo thứ tự giảm dần?"
      ]
    },
    {
      "cell_type": "markdown",
      "metadata": {
        "id": "u6MdtXekXhEe"
      },
      "source": [
        "## 5.5. np.exp() và hàm softmax\n",
        "\n",
        "Hàm exponetial cho phép ta tính số mũ cơ số tự nhiên $e$ của bất kỳ các ma trận nào theo công thức:\n",
        "\n",
        "$$f(x) = e^{x}$$"
      ]
    },
    {
      "cell_type": "code",
      "metadata": {
        "colab": {
          "base_uri": "https://localhost:8080/"
        },
        "id": "b4xhddduXvWk",
        "outputId": "04947c5f-5a2f-443b-a041-c6b5a5dc3145"
      },
      "source": [
        "np.exp(B)"
      ],
      "execution_count": null,
      "outputs": [
        {
          "output_type": "execute_result",
          "data": {
            "text/plain": [
              "array([[1.10517092, 1.22140276, 2.01375271],\n",
              "       [1.8221188 , 1.4918247 , 1.        ],\n",
              "       [1.10517092, 1.64872127, 1.4918247 ],\n",
              "       [1.34985881, 1.34985881, 1.4918247 ],\n",
              "       [1.10517092, 2.22554093, 1.10517092]])"
            ]
          },
          "metadata": {
            "tags": []
          },
          "execution_count": 32
        }
      ]
    },
    {
      "cell_type": "markdown",
      "metadata": {
        "id": "cSvJ7HM-X630"
      },
      "source": [
        "Từ ma trận `exponential` chúng ta có thể dễ dàng tính được phân phối xác suất tương ứng với từng quan sát theo công thức của hàm softmax:\n",
        "\n",
        "$$P(y=i|\\mathbf{x}) = \\frac{e^{x_i}}{\\sum_{i=1}^{C} e^{x_i}}$$\n",
        "\n",
        "Trên thực tế việc tính toán $e^{x_i}$ với các giá trị $x_i$ lớn thường dẫn tới sự tốn kém chi phí tính toán và có thể dẫn tới hiện tượng số bị tràn luồng (_overflow_). Chúng ta có thể làm giảm cả tử và mẫu của phân phối xác suất $P(.)$ bằng cách chia cho $e^{x_i}$ nhỏ nhất.\n",
        "\n",
        "$$P(y=i|\\mathbf{x}) = \\frac{e^{x_i-\\min{(x)}}}{\\sum_{i=1}^{C} e^{x_i-\\min(x)}}$$\n"
      ]
    },
    {
      "cell_type": "code",
      "metadata": {
        "colab": {
          "base_uri": "https://localhost:8080/"
        },
        "id": "QZHkRuL_Yffk",
        "outputId": "e3206e19-00ad-4ccd-a096-e7e25e83d3f8"
      },
      "source": [
        "# Ma trận phân phối xác suất được tính dựa trên các dòng của ma trận B.\n",
        "E = np.exp(B)\n",
        "P = []\n",
        "\n",
        "for i in range(E.shape[0]):\n",
        "  Ei = E[i, :]\n",
        "  pi = Ei/np.sum(Ei)\n",
        "  P.append(pi)\n",
        "\n",
        "P = np.array(P)\n",
        "P"
      ],
      "execution_count": null,
      "outputs": [
        {
          "output_type": "execute_result",
          "data": {
            "text/plain": [
              "array([[0.25462853, 0.28140804, 0.46396343],\n",
              "       [0.42237892, 0.34581461, 0.23180647],\n",
              "       [0.26030255, 0.38832577, 0.35137169],\n",
              "       [0.32204346, 0.32204346, 0.35591307],\n",
              "       [0.2491434 , 0.5017132 , 0.2491434 ]])"
            ]
          },
          "metadata": {
            "tags": []
          },
          "execution_count": 33
        }
      ]
    },
    {
      "cell_type": "markdown",
      "metadata": {
        "id": "uYYHBsmCv2jj"
      },
      "source": [
        "**Bài tập:** Hày tìm một cách tính khác để tính toán phân phối xác suất của các dòng trên ma trận $\\mathbf{B}$."
      ]
    },
    {
      "cell_type": "markdown",
      "metadata": {
        "id": "IVsuVq76dRBR"
      },
      "source": [
        "## 5.6. Giữ nguyên shape\n",
        "\n",
        "Các phép biến đổi trên ma trận trên ta đều thấy làm giảm chiều của ma trận đi một. Ví dụ khi tính `max` theo các dòng của ma trận thì chiều cột sẽ bị tiêu giảm. `numpy` cung cấp cho chúng ta đối số `keepdims` để giữ nguyên số chiều như ma trận đầu tiên."
      ]
    },
    {
      "cell_type": "code",
      "metadata": {
        "colab": {
          "base_uri": "https://localhost:8080/"
        },
        "id": "IX1SIK9pd7QC",
        "outputId": "64dfbd57-74ed-4894-d666-64a36b0e1652"
      },
      "source": [
        "# Tính max theo các dòng ta thu được véc tơ độ dài là rows\n",
        "np.max(B, axis=1)"
      ],
      "execution_count": null,
      "outputs": [
        {
          "output_type": "execute_result",
          "data": {
            "text/plain": [
              "array([0.7, 0.6, 0.5, 0.4, 0.8])"
            ]
          },
          "metadata": {
            "tags": []
          },
          "execution_count": 34
        }
      ]
    },
    {
      "cell_type": "markdown",
      "metadata": {
        "id": "OL8Fx42neMUb"
      },
      "source": [
        "Khi sử dụng `keepdims=True` thì kết quả trả ra sẽ là một ma trận, chiều bị tiêu giảm sẽ được thay thế bởi kích thước 1."
      ]
    },
    {
      "cell_type": "code",
      "metadata": {
        "id": "-LgdFdGieYOL",
        "colab": {
          "base_uri": "https://localhost:8080/"
        },
        "outputId": "917094d2-ba97-4927-d243-05f78c32f438"
      },
      "source": [
        "np.max(B, axis=1, keepdims=True)"
      ],
      "execution_count": null,
      "outputs": [
        {
          "output_type": "execute_result",
          "data": {
            "text/plain": [
              "array([[0.7],\n",
              "       [0.6],\n",
              "       [0.5],\n",
              "       [0.4],\n",
              "       [0.8]])"
            ]
          },
          "metadata": {
            "tags": []
          },
          "execution_count": 35
        }
      ]
    },
    {
      "cell_type": "markdown",
      "metadata": {
        "id": "EvAwV-cOZaxg"
      },
      "source": [
        "## 5.7. Gieo hạt và trộn lẫn dữ liệu trên numpy\n",
        "\n",
        "`np.random.seed()` là một hàm gieo hạt giúp cho các kết quả từ những hàm sinh dữ liệu được giữ nguyên kết quả sau mỗi lần chạy. Hàm số này có những ứng dụng rất quan trọng như giúp cố định tập train/test khi phân chia từ dữ liệu tổng thể, cố định giá trị khởi tạo cho cho mạng nơ ron network,.... Bên trong hàm gieo hạt chúng ta truyển vào một giá trị số tự nhiên chính là id của lần gieo hạt chẳng hạn như `np.random.seed(123)`. Giá trị id này sẽ giúp tạo ra một địa chỉ ô nhớ trên RAM để lưu lại quá trình sinh dữ liệu. Nhờ đó khi gọi lại đúng id đó ta có thể khôi phục lại giá trị ban đầu. \n",
        "\n",
        "Bên dưới chúng ta sẽ tạo ra một chuỗi dữ liệu ngẫu nhiên được cố định giá trị bằng phương pháp gieo hạt và kiểm tra xem sau khi chạy lại hàm số đó thì có sinh ra giá trị như lúc trước hay không?"
      ]
    },
    {
      "cell_type": "code",
      "metadata": {
        "colab": {
          "base_uri": "https://localhost:8080/"
        },
        "id": "E8MXf05Za5tI",
        "outputId": "da3d361d-6b85-417f-ff27-73207ea2c1fe"
      },
      "source": [
        "import numpy as np\n",
        "np.random.seed(123)\n",
        "np.random.randint(0, 100, 10)"
      ],
      "execution_count": null,
      "outputs": [
        {
          "output_type": "execute_result",
          "data": {
            "text/plain": [
              "array([66, 92, 98, 17, 83, 57, 86, 97, 96, 47])"
            ]
          },
          "metadata": {
            "tags": []
          },
          "execution_count": 59
        }
      ]
    },
    {
      "cell_type": "code",
      "metadata": {
        "colab": {
          "base_uri": "https://localhost:8080/"
        },
        "id": "UgeSVIs6Zy3l",
        "outputId": "d5de5b6b-ef20-420d-9d4e-cc3b4b3b8e18"
      },
      "source": [
        "np.random.seed(123)\n",
        "np.random.randint(0, 100, 10)"
      ],
      "execution_count": null,
      "outputs": [
        {
          "output_type": "execute_result",
          "data": {
            "text/plain": [
              "array([66, 92, 98, 17, 83, 57, 86, 97, 96, 47])"
            ]
          },
          "metadata": {
            "tags": []
          },
          "execution_count": 61
        }
      ]
    },
    {
      "cell_type": "markdown",
      "metadata": {
        "id": "Ma_7DmIabLlD"
      },
      "source": [
        "Như vậy khi sử dụng lại mã gieo hạt thì kết quả ta thu được từ hai lần khởi tạo ngẫu nhiên véc tơ số nguyên là không thay đổi."
      ]
    },
    {
      "cell_type": "markdown",
      "metadata": {
        "id": "CN4i8R76Z0Px"
      },
      "source": [
        "\n",
        "**Bài tập:** Cho một tập dữ liệu có kích thước là 100. Hãy tìm cách phân chia tập dữ liệu thành tập train và tập test một cách ngẫu nhiên theo tỷ lệ 70/30."
      ]
    },
    {
      "cell_type": "markdown",
      "metadata": {
        "id": "oVMF1Ll9N8b9"
      },
      "source": [
        "# 6. Các ma trận đặc biệt"
      ]
    },
    {
      "cell_type": "markdown",
      "metadata": {
        "id": "hhvd4mb_N_2O"
      },
      "source": [
        "## 6.1. Ma trận đơn vị\n",
        "\n",
        "Ma trận đơn vị là một ma trận vuông có các phần tử trên đường chéo chính bằng 1 và các phần tử còn lại bằng 0. Đây là một ma trận rất đặc biệt vì tích của một ma trận khác với ma trận đơn vị sẽ bằng chính ma trận đó.\n",
        "\n",
        "$$\\mathbf{A}\\mathbf{I} = \\mathbf{A}$$\n",
        "\n",
        "Ma trận $\\mathbf{A}$ vuông khả nghịch nhân với ma trận nghịch đảo của nó thì bằng ma trận đơn vị:\n",
        "\n",
        "$$\\mathbf{A}\\mathbf{A}^{-1} = \\mathbf{I}$$\n"
      ]
    },
    {
      "cell_type": "code",
      "metadata": {
        "colab": {
          "base_uri": "https://localhost:8080/"
        },
        "id": "CLCFmyBZPLAb",
        "outputId": "da27e66e-b7a0-455e-ac78-33348a2ee370"
      },
      "source": [
        "# Khởi tạo ma trận đơn vị với shape=5x5\n",
        "I = np.identity(5, dtype=np.float16)\n",
        "I"
      ],
      "execution_count": null,
      "outputs": [
        {
          "output_type": "execute_result",
          "data": {
            "text/plain": [
              "array([[1., 0., 0., 0., 0.],\n",
              "       [0., 1., 0., 0., 0.],\n",
              "       [0., 0., 1., 0., 0.],\n",
              "       [0., 0., 0., 1., 0.],\n",
              "       [0., 0., 0., 0., 1.]], dtype=float16)"
            ]
          },
          "metadata": {
            "tags": []
          },
          "execution_count": 36
        }
      ]
    },
    {
      "cell_type": "markdown",
      "metadata": {
        "id": "2iXF15XAODLo"
      },
      "source": [
        "## 6.2. Ma trận 1\n",
        "\n",
        "Ma trận 1 là ma trận gồm toàn những phần tử có giá trị là 1."
      ]
    },
    {
      "cell_type": "code",
      "metadata": {
        "colab": {
          "base_uri": "https://localhost:8080/"
        },
        "id": "BmW4jZFxPSQM",
        "outputId": "f7d3bb51-5b93-467f-c254-5b2c00cc75e7"
      },
      "source": [
        "# Khởi tạo ma trận 1 với kích thước (3, 3)\n",
        "A = np.ones((3, 3), dtype=np.float32)\n",
        "A"
      ],
      "execution_count": null,
      "outputs": [
        {
          "output_type": "execute_result",
          "data": {
            "text/plain": [
              "array([[1., 1., 1.],\n",
              "       [1., 1., 1.],\n",
              "       [1., 1., 1.]], dtype=float32)"
            ]
          },
          "metadata": {
            "tags": []
          },
          "execution_count": 37
        }
      ]
    },
    {
      "cell_type": "markdown",
      "metadata": {
        "id": "Eb9AEwpxQWcX"
      },
      "source": [
        "**Bài tập:** Một ma trận B nhân với ma trận 1 thì sẽ có giá trị bằng bao nhiêu?\n",
        "\n",
        "Chúng ta cũng có thể khởi tạo ma trận 1 có kích thước bằng với shape của một ma trận khác không qua câu lệnh `np.ones_like()`"
      ]
    },
    {
      "cell_type": "code",
      "metadata": {
        "colab": {
          "base_uri": "https://localhost:8080/"
        },
        "id": "kFL9Hp5hQ1YO",
        "outputId": "28ac6092-0137-43ed-bf1d-9a7f9b27ce16"
      },
      "source": [
        "# Khởi tạo ma trận B ngẫu nhiên kích thước (2, 3)\n",
        "B = np.random.randn(2,3)\n",
        "# Khởi tạo ma trân 1 có kích thước bằng với (2, 3)\n",
        "A = np.ones_like(B)\n",
        "A"
      ],
      "execution_count": null,
      "outputs": [
        {
          "output_type": "execute_result",
          "data": {
            "text/plain": [
              "array([[1., 1., 1.],\n",
              "       [1., 1., 1.]])"
            ]
          },
          "metadata": {
            "tags": []
          },
          "execution_count": 38
        }
      ]
    },
    {
      "cell_type": "markdown",
      "metadata": {
        "id": "6cyJHdNXO9Y1"
      },
      "source": [
        "## 6.3. Ma trận 0\n",
        "\n",
        "Cũng tương tự như ma trận 1, ma trận 0 gồm toàn bộ các phần tử bằng 0."
      ]
    },
    {
      "cell_type": "code",
      "metadata": {
        "colab": {
          "base_uri": "https://localhost:8080/"
        },
        "id": "AU9ljxcZRIzl",
        "outputId": "905e6f8c-396a-4a72-b305-1ce375614f36"
      },
      "source": [
        "# Khởi tạo ma trận 0 kích thước (3, 3)\n",
        "np.zeros((3, 3))"
      ],
      "execution_count": null,
      "outputs": [
        {
          "output_type": "execute_result",
          "data": {
            "text/plain": [
              "array([[0., 0., 0.],\n",
              "       [0., 0., 0.],\n",
              "       [0., 0., 0.]])"
            ]
          },
          "metadata": {
            "tags": []
          },
          "execution_count": 39
        }
      ]
    },
    {
      "cell_type": "code",
      "metadata": {
        "colab": {
          "base_uri": "https://localhost:8080/"
        },
        "id": "rofhsnrjRLml",
        "outputId": "ac8e24f0-c28c-4e67-8176-6f97a2aab2d7"
      },
      "source": [
        "# Khởi tạo ma trận 0 có kích thước như ma trận B\n",
        "np.zeros_like(B)"
      ],
      "execution_count": null,
      "outputs": [
        {
          "output_type": "execute_result",
          "data": {
            "text/plain": [
              "array([[0., 0., 0.],\n",
              "       [0., 0., 0.]])"
            ]
          },
          "metadata": {
            "tags": []
          },
          "execution_count": 40
        }
      ]
    },
    {
      "cell_type": "markdown",
      "metadata": {
        "id": "zp5GbszryR2K"
      },
      "source": [
        "## 6.4. Ma trận đường chéo chính\n",
        "\n",
        "Ma trận đường chéo chính là ma trận vuông mà có các giá trị khác đường chéo chính đều bằng 0. Đường chéo chính ở đây được xác định là những điểm $a_{ii}$ có indice dòng và cột bằng nhau.\n",
        "\n",
        "Để khởi tạo ma trận đường chéo chính chúng ta sử dụng câu lệnh `np.diag()` và khai báo véc tơ đường chéo chính."
      ]
    },
    {
      "cell_type": "code",
      "metadata": {
        "colab": {
          "base_uri": "https://localhost:8080/"
        },
        "id": "p_EKEBkOyUvO",
        "outputId": "33315504-54b0-449d-fd10-ea5eb64d3a32"
      },
      "source": [
        "np.diag(np.array([1, 2, 3]))"
      ],
      "execution_count": null,
      "outputs": [
        {
          "output_type": "execute_result",
          "data": {
            "text/plain": [
              "array([[1, 0, 0],\n",
              "       [0, 2, 0],\n",
              "       [0, 0, 3]])"
            ]
          },
          "metadata": {
            "tags": []
          },
          "execution_count": 41
        }
      ]
    },
    {
      "cell_type": "markdown",
      "metadata": {
        "id": "hDfIjIFW0Y2y"
      },
      "source": [
        "Trong trường hợp `np.diag()` có đầu vào là một ma trận thì kết quả trả ra chính là đường chéo của ma trận đó (ma trận có thể không vuông). "
      ]
    },
    {
      "cell_type": "code",
      "metadata": {
        "colab": {
          "base_uri": "https://localhost:8080/"
        },
        "id": "0nw-z7Tj0pTj",
        "outputId": "81c02b56-18ba-4fff-ab84-59d300c2976c"
      },
      "source": [
        "A = np.array([[1, 2, 3],\n",
        "              [4, 5, 6],\n",
        "              [7, 8 ,9]])\n",
        "\n",
        "# Đường chéo chính của ma trận A\n",
        "np.diag(A)"
      ],
      "execution_count": null,
      "outputs": [
        {
          "output_type": "execute_result",
          "data": {
            "text/plain": [
              "array([1, 5, 9])"
            ]
          },
          "metadata": {
            "tags": []
          },
          "execution_count": 42
        }
      ]
    },
    {
      "cell_type": "markdown",
      "metadata": {
        "id": "MjQrKGTM04sK"
      },
      "source": [
        "# 7. Các phép toán trên ma trận"
      ]
    },
    {
      "cell_type": "markdown",
      "metadata": {
        "id": "RUsjQxrZ0_HG"
      },
      "source": [
        "## 7.1. Phép chuyển vị\n",
        "\n",
        "Phép chuyển vị một ma trận kích thước $m\\times n$ sẽ biến thành một ma trận mới kích thước $n \\times m$ sao cho các dòng của ma trận ban đầu sẽ biến thành cột của ma trận chuyển vị."
      ]
    },
    {
      "cell_type": "code",
      "metadata": {
        "colab": {
          "base_uri": "https://localhost:8080/"
        },
        "id": "zl0dHyiD1bWF",
        "outputId": "4ff64b70-867d-41ae-f351-9fa56ad6b2f3"
      },
      "source": [
        "print(\"Original matrix: \\n\", A)\n",
        "print(\"Transpose matrix: \\n\", A.T)"
      ],
      "execution_count": null,
      "outputs": [
        {
          "output_type": "stream",
          "text": [
            "Original matrix: \n",
            " [[1 2 3]\n",
            " [4 5 6]\n",
            " [7 8 9]]\n",
            "Transpose matrix: \n",
            " [[1 4 7]\n",
            " [2 5 8]\n",
            " [3 6 9]]\n"
          ],
          "name": "stdout"
        }
      ]
    },
    {
      "cell_type": "markdown",
      "metadata": {
        "id": "Pni-LnBD1qpL"
      },
      "source": [
        "## 7.2. Ma trận nghịch đảo.\n",
        "\n",
        "Ma trận nghịch đảo của một ma trận vuông $\\mathbf{A}$ khả nghịch là một ma trận được ký hiệu $\\mathbf{A}^{-1}$. Ma trận này có tích với $\\mathbf{A}$ là một ma trận đơn vị.\n",
        "\n",
        "$$\\mathbf{A}^{-1}\\mathbf{A} = \\mathbf{A}\\mathbf{A}^{-1} = \\mathbf{I}$$"
      ]
    },
    {
      "cell_type": "code",
      "metadata": {
        "colab": {
          "base_uri": "https://localhost:8080/"
        },
        "id": "athjHGHw2uUC",
        "outputId": "d7c97ed9-21bd-4ac7-bea8-b600a7d6919e"
      },
      "source": [
        "# Tính ma trận nghịch đảo của A\n",
        "# pinv là pseudo-inverse of a matrix\n",
        "A = np.array([[1, 2.5, 2],\n",
        "              [3, 4.2, 1],\n",
        "              [5, 2.1, 2]])\n",
        "\n",
        "A_inv=np.linalg.pinv(A)\n",
        "\n",
        "print(\"Inverse A: \")\n",
        "A_inv"
      ],
      "execution_count": null,
      "outputs": [
        {
          "output_type": "stream",
          "text": [
            "Inverse A: \n"
          ],
          "name": "stdout"
        },
        {
          "output_type": "execute_result",
          "data": {
            "text/plain": [
              "array([[-0.24609375,  0.03125   ,  0.23046875],\n",
              "       [ 0.0390625 ,  0.3125    , -0.1953125 ],\n",
              "       [ 0.57421875, -0.40625   ,  0.12890625]])"
            ]
          },
          "metadata": {
            "tags": []
          },
          "execution_count": 44
        }
      ]
    },
    {
      "cell_type": "markdown",
      "metadata": {
        "id": "rjnMnQT33nBf"
      },
      "source": [
        "Tích của ma trận $\\mathbf{A}$ với ma trận nghịch đảo của nó là một ma trận đơn vị."
      ]
    },
    {
      "cell_type": "code",
      "metadata": {
        "colab": {
          "base_uri": "https://localhost:8080/"
        },
        "id": "mh1OxtTw3GMT",
        "outputId": "ba7511e5-a4f1-46d1-8d4c-1b8b51757e8c"
      },
      "source": [
        "A.dot(A_inv)"
      ],
      "execution_count": null,
      "outputs": [
        {
          "output_type": "execute_result",
          "data": {
            "text/plain": [
              "array([[ 1.00000000e+00,  4.44089210e-16, -6.10622664e-16],\n",
              "       [ 2.22044605e-16,  1.00000000e+00, -6.10622664e-16],\n",
              "       [-2.22044605e-16, -4.44089210e-16,  1.00000000e+00]])"
            ]
          },
          "metadata": {
            "tags": []
          },
          "execution_count": 45
        }
      ]
    },
    {
      "cell_type": "markdown",
      "metadata": {
        "id": "jEv1oXLw3yzd"
      },
      "source": [
        "## 7.3. Hạng (_rank_) của ma trận.\n",
        "\n",
        "Để tìm hiểu về hạng ma trận trước tiên ta làm quen với khái niệm độc lập tuyến tính của hệ véc tơ.\n",
        "\n",
        "**Hệ véc tơ độc lập tuyến tính là gì?**\n",
        "\n",
        "Một hệ véc tơ $\\mathbf{e}_1, \\mathbf{e}_2, \\dots, \\mathbf{e}_n$ là độc lập tuyến tính nếu phương trình:\n",
        "\n",
        "$$k_1 \\mathbf{e}_1 + k_2 \\mathbf{e}_2 + \\dots + k_n \\mathbf{e}_n = 0$$\n",
        "\n",
        "có một nghiệm duy nhất $k_1 = k_2 = \\dots = k_n = 0$\n",
        "\n",
        "Trái lại, nếu tồn tại một nghiệm mà $k_j \\neq 0$ thì hệ véc tơ là phụ thuộc tuyến tính.\n",
        "\n",
        "Một hệ véc tơ độc lập truyến tính thì tạo ra một không gian véc tơ. Khi đó mọi véc tơ khác có thể được biểu diễn dưới dạng tổ hợp tuyến tính của những véc tơ này.\n",
        "\n",
        "**Hạng của ma trận là gì?**\n",
        "\n",
        "Hạng của ma trận là số lượng các chiều trong không gian véc tơ được sinh ra bởi các cột (hoặc dòng) của ma trận $\\mathbf{A}$. Nó chính bằng số lượng lớn nhất các cột (hoặc dòng) độc lập truyến tính của ma trận $\\mathbf{A}$.\n"
      ]
    },
    {
      "cell_type": "code",
      "metadata": {
        "colab": {
          "base_uri": "https://localhost:8080/"
        },
        "id": "CzJhb5AC5LrC",
        "outputId": "59ce69e8-71ec-40a5-d649-5f4da794c8d1"
      },
      "source": [
        "np.linalg.matrix_rank(A)"
      ],
      "execution_count": null,
      "outputs": [
        {
          "output_type": "execute_result",
          "data": {
            "text/plain": [
              "3"
            ]
          },
          "metadata": {
            "tags": []
          },
          "execution_count": 46
        }
      ]
    },
    {
      "cell_type": "markdown",
      "metadata": {
        "id": "mXdqn3qO7Y_6"
      },
      "source": [
        "## 7.4. Định thức (_determinant_) của ma trận\n",
        "\n",
        "Giả sử ta có một ma trận vuông $\\mathbf{M}$ như sau:\n",
        "\n",
        "$$\\mathbf{M}=\\begin{bmatrix} \n",
        "m^{1}_{1} & m^{1}_{2} & \\dots & m^{1}_{n}\\\\ \n",
        "m^{2}_{1} & m^{2}_{2} & \\dots & m^{2}_{n}\\\\ \n",
        "\\dots & \\dots & \\ddots & \\dots\\\\ \n",
        "m^{n}_{1} & m^{n}_{2} & \\dots & m^{n}_{n}\\\\ \n",
        "\\end{bmatrix}$$\n",
        "\n",
        "\n",
        "Định thức của một ma trận là một giá trị được tính dựa theo công thức:\n",
        "\n",
        "$$\\det(\\mathbf{M})= \\sum_{\\sigma} \\text{sgn}(\\sigma) m^{1}_{\\sigma(1)}m^{2}_{\\sigma(2)}\\cdots m^{n}_{\\sigma(n)}= m^{1}_{1}m^{2}_{2}\\cdots m^{n}_{n}.$$\n",
        "\n",
        "Trong đó $\\sigma=\\{\\sigma(1), \\sigma(2), \\dots, \\sigma(n)\\}$ là một phép hoán vị các thành phần của tập thứ tự ban đầu $O = \\{1, 2, \\dots, n\\}$ và $\\text{sgn}(\\sigma)$ là biểu thức nhận hai gía trị $\\{1, -1\\}$. Nếu số lần hoán vị $\\sigma$ để thu được tập $O$ là chẵn thì nhận gía trị 1 và lẻ thì nhận giá trị -1. \n",
        "\n",
        "Định thức có ý nghĩa rất quan trọng đối với ma trận vì nó cho phép chúng ta biết được các véc tơ cột (hoặc dòng) của ma trận đó có độc lập tuyến tính hay không? Hệ phương trình tạo bởi ma trận đó bao nhiêu nghiệm? Thậm chí chúng ta có thể tính được nghiệm của ma trận theo công thức nghiệm Jacobian."
      ]
    },
    {
      "cell_type": "code",
      "metadata": {
        "colab": {
          "base_uri": "https://localhost:8080/"
        },
        "id": "qtedihZF9QV4",
        "outputId": "294a4c77-860a-47d4-99b9-ed44f37b73fa"
      },
      "source": [
        "# Tính định thức của A\n",
        "np.linalg.det(A)"
      ],
      "execution_count": null,
      "outputs": [
        {
          "output_type": "execute_result",
          "data": {
            "text/plain": [
              "-25.6"
            ]
          },
          "metadata": {
            "tags": []
          },
          "execution_count": 47
        }
      ]
    },
    {
      "cell_type": "markdown",
      "metadata": {
        "id": "_qn4FVrsBmDw"
      },
      "source": [
        "## 7.5. Trace của ma trận\n",
        "\n",
        "Trace của một ma trận là tổng của các phần tử nằm trên đường chéo chính.\n",
        "\n",
        "$$trace{(\\mathbf{A})} = \\sum_{i=1}^{n}a_{ii}$$"
      ]
    },
    {
      "cell_type": "code",
      "metadata": {
        "colab": {
          "base_uri": "https://localhost:8080/"
        },
        "id": "GRMVC_xRBeHg",
        "outputId": "8830407e-d546-4f2b-c0bd-8d41ecbdb565"
      },
      "source": [
        "print(\"matrix A: \\n\", A)\n",
        "print(\"trace of A: \", np.trace(A))"
      ],
      "execution_count": null,
      "outputs": [
        {
          "output_type": "stream",
          "text": [
            "matrix A: \n",
            " [[1.  2.5 2. ]\n",
            " [3.  4.2 1. ]\n",
            " [5.  2.1 2. ]]\n",
            "trace of A:  7.2\n"
          ],
          "name": "stdout"
        }
      ]
    },
    {
      "cell_type": "markdown",
      "metadata": {
        "id": "GfxoE_JNalmG"
      },
      "source": [
        "## 7.6. Chuẩn Frobenious \n",
        "\n",
        "Tương tự như chuẩn $L_2$ đối với véc tơ. Chuấn Frobenious của một ma trận bằng căn bậc hai của tổng bình phương các thành phần trong ma trận đó.\n",
        "\n",
        "$$||\\mathbf{A}_{F}||=\\sqrt{\\sum_{i=1}^{m} \\sum_{j=1}^{n} a_{ij}^2}$$"
      ]
    },
    {
      "cell_type": "code",
      "metadata": {
        "id": "rjUffXONapM4",
        "colab": {
          "base_uri": "https://localhost:8080/"
        },
        "outputId": "6d07a4f0-1222-402e-85f1-313d01e6195b"
      },
      "source": [
        "np.linalg.norm(A, ord='fro')"
      ],
      "execution_count": null,
      "outputs": [
        {
          "output_type": "execute_result",
          "data": {
            "text/plain": [
              "8.502940667792526"
            ]
          },
          "metadata": {
            "tags": []
          },
          "execution_count": 49
        }
      ]
    },
    {
      "cell_type": "markdown",
      "metadata": {
        "id": "bkqVO8pla0ru"
      },
      "source": [
        "Ngoài ra ta cũng dễ dàng chứng minh được rằng:\n",
        "\n",
        "$$||\\mathbf{A}||_{F}^2 = \\text{trace}(\\mathbf{A}\\mathbf{A}^{\\intercal}) = \\text{trace}(\\mathbf{A}^{\\intercal}\\mathbf{A})$$"
      ]
    },
    {
      "cell_type": "markdown",
      "metadata": {
        "id": "xBLezhfTJz9v"
      },
      "source": [
        "# 8. Các phép toán trên ma trận"
      ]
    },
    {
      "cell_type": "markdown",
      "metadata": {
        "id": "1NxvwK4HJ2p6"
      },
      "source": [
        "## 8.1. Các phép cộng, trừ\n",
        "\n",
        "Chúng ta có thể cộng hai hai ma trận có cùng kích thước như sau:\n",
        "\n",
        "$$\\mathbf{A}_{(m \\times n)} + \\mathbf{B}_{(m \\times n)} = \n",
        " \\begin{bmatrix}\n",
        "  a_{11}+b_{11} & a_{12}+b_{12} & \\cdots & a_{1n}+b_{1n} \\\\\n",
        "  a_{21}+b_{21} & a_{22}+b_{22} & \\cdots & a_{2n}+b_{2n} \\\\\n",
        "  \\vdots  & \\vdots  & \\ddots & \\vdots  \\\\\n",
        "  a_{m1}+b_{m1} & a_{m2}+b_{m2} & \\cdots & a_{mn}+b_{mn} \n",
        " \\end{bmatrix} $$\n",
        "\n",
        "Các phần tử ở cùng một vị trí ở cả hai ma trận được cộng với nhau. Tức là $a_{ij} + b_{ij}$ sẽ tạo ra phần tử $c_{ij}$ trên ma trận đầu ra. Tương tự chúng ta cũng thực hiện như vậy đối với phép trừ hai ma trận."
      ]
    },
    {
      "cell_type": "code",
      "metadata": {
        "colab": {
          "base_uri": "https://localhost:8080/"
        },
        "id": "brv8cGXdKD94",
        "outputId": "e3016ace-ca51-4110-c51b-da5cbefc5e5d"
      },
      "source": [
        "import numpy as np\n",
        "A = np.array([[1, 4, 2],\n",
        "              [3, 2, 1],\n",
        "              [4, 6, 7]])\n",
        "\n",
        "B = np.array([[0, 3, 4],\n",
        "              [3, 4, 2],\n",
        "              [4, 6, 8]])\n",
        "\n",
        "A - B"
      ],
      "execution_count": null,
      "outputs": [
        {
          "output_type": "execute_result",
          "data": {
            "text/plain": [
              "array([[ 1,  1, -2],\n",
              "       [ 0, -2, -1],\n",
              "       [ 0,  0, -1]])"
            ]
          },
          "metadata": {
            "tags": []
          },
          "execution_count": 50
        }
      ]
    },
    {
      "cell_type": "markdown",
      "metadata": {
        "id": "jDGD6yusL2Ov"
      },
      "source": [
        "## 8.2. Phép nhân ma trận thông thường\n",
        "\n",
        "Phép nhân hai ma trận $\\mathbf{A}_{m \\times n}$ và $\\mathbf{B}_{n \\times p}$ sẽ tạo thành một ma trận mới kích thước $m \\times p$. Khi đó phần tử $c_{ij}$ trên ma trận mới sẽ có tích bằng dòng thứ $i$ trên ma trận $\\mathbf{A}$ nhân với cột thứ $j$ trên ma trận $\\mathbf{B}$.\n",
        "\n",
        "$$c_{ij} = \\mathbf{A}_{i:} \\mathbf{B}_{:j}$$\n",
        "\n",
        "Trên numpy phép nhân này được thực hiện bằng `A.dot(B)` hoặc `np.dot(A, B)`."
      ]
    },
    {
      "cell_type": "code",
      "metadata": {
        "colab": {
          "base_uri": "https://localhost:8080/"
        },
        "id": "GXNhb3l6M3xJ",
        "outputId": "00613c4a-95c9-4f1c-9d85-2dff6f64600b"
      },
      "source": [
        "import numpy as np\n",
        "A = np.array([[1, 4, 2],\n",
        "              [3, 2, 1]])\n",
        "\n",
        "B = np.array([[0, 3],\n",
        "              [3, 4],\n",
        "              [4, 6]])\n",
        "\n",
        "np.dot(A, B)\n",
        "# Hoặc\n",
        "A.dot(B)\n",
        "# Hoặc\n",
        "A@B"
      ],
      "execution_count": null,
      "outputs": [
        {
          "output_type": "execute_result",
          "data": {
            "text/plain": [
              "array([[20, 31],\n",
              "       [10, 23]])"
            ]
          },
          "metadata": {
            "tags": []
          },
          "execution_count": 65
        }
      ]
    },
    {
      "cell_type": "markdown",
      "metadata": {
        "id": "n45suCKHmQW6"
      },
      "source": [
        "## 8.3. Tích Hadamard (element-wise product) giữa hai ma trận\n",
        "\n",
        "Tích Hadamard giữa hai ma trận $\\mathbf{A}$ và $\\mathbf{B}$ có cùng kích thước là một ma trận có cùng kích thước với $\\mathbf{A}$ và $\\mathbf{B}$. Khi đó mỗi một phần tử của ma trận bằng tích của các phần tử ở cùng vị trí.\n",
        "\n",
        "$$\\begin{split}\n",
        "\\begin{split}\\mathbf{A} \\odot \\mathbf{B} =\n",
        "\\begin{bmatrix}\n",
        "    a_{11}  b_{11} & a_{12}  b_{12} & \\dots  & a_{1n}  b_{1n} \\\\\n",
        "    a_{21}  b_{21} & a_{22}  b_{22} & \\dots  & a_{2n}  b_{2n} \\\\\n",
        "    \\vdots & \\vdots & \\ddots & \\vdots \\\\\n",
        "    a_{m1}  b_{m1} & a_{m2}  b_{m2} & \\dots  & a_{mn}  b_{mn}\n",
        "\\end{bmatrix}\\end{split}\n",
        "\\end{split}$$\n",
        "\n",
        "Chúng ta ký hiệu tích hadamard bằng hình trong có một dấu chấm ở tâm ($\\odot$).\n",
        "\n",
        "Bạn sẽ nhận thấy rằng tích chập hai chiều (convolutional 2D) trong mạng CNN cũng chính là tích hadarmard giữa bộ lọc và vùng local region."
      ]
    },
    {
      "cell_type": "code",
      "metadata": {
        "colab": {
          "base_uri": "https://localhost:8080/"
        },
        "id": "vAFxNP15nhAq",
        "outputId": "5d5d5642-f26b-4b26-d3e9-410f63e14cab"
      },
      "source": [
        "# Tích của hai ma trận A và B\n",
        "C = np.array([[2, 1, 2],\n",
        "              [1, 0, 1]])\n",
        "\n",
        "D = np.array([[0, 2, 4],\n",
        "              [2, 3, 1]])\n",
        "\n",
        "C*D"
      ],
      "execution_count": null,
      "outputs": [
        {
          "output_type": "execute_result",
          "data": {
            "text/plain": [
              "array([[0, 2, 8],\n",
              "       [2, 0, 1]])"
            ]
          },
          "metadata": {
            "tags": []
          },
          "execution_count": 66
        }
      ]
    },
    {
      "cell_type": "markdown",
      "metadata": {
        "id": "o7d1I1VbbT4q"
      },
      "source": [
        "## 8.4. Nhân ma trận với một véc tơ\n",
        "\n",
        "Từ phép nhân hai ma trận ta có thể suy ra cách thực hiện phép nhân ma trận với một véc tơ nếu coi véc tơ cũng là một ma trận mà một chiều của nó bằng 1.\n",
        "\n",
        "$$\\mathbf{A}\\mathbf{x} = \n",
        " \\begin{bmatrix}\n",
        "  a_{11} & a_{12} & \\cdots & a_{1n} \\\\\n",
        "  a_{21} & a_{22} & \\cdots & a_{2n} \\\\\n",
        "  \\vdots  & \\vdots  & \\ddots & \\vdots  \\\\\n",
        "  a_{m1} & a_{m2} & \\cdots & a_{mn} \n",
        " \\end{bmatrix}_{(m \\times n)}\n",
        " \\begin{bmatrix}\n",
        "  x_1 \\\\\n",
        "  x_2 \\\\\n",
        "  \\vdots \\\\\n",
        "  x_n\n",
        " \\end{bmatrix}_{(n)} = \\begin{bmatrix}\n",
        "  a_{11}x_1 + a_{12}x_2 + \\cdots + a_{1n}x_n \\\\\n",
        "  a_{21}x_1 + a_{22}x_2 + \\cdots + a_{2n}x_n \\\\\n",
        "  \\dots   \\\\\n",
        "  a_{m1}x_1 + a_{m2}x_2 + \\cdots + a_{mn}x_n \n",
        " \\end{bmatrix}_{(m)}$$"
      ]
    },
    {
      "cell_type": "code",
      "metadata": {
        "colab": {
          "base_uri": "https://localhost:8080/"
        },
        "id": "sTOZ9V4Ics5G",
        "outputId": "4cda4197-259d-4ace-ae1a-ef44a2fa04ec"
      },
      "source": [
        "x = np.array([1, 2, 3])\n",
        "A.dot(x)"
      ],
      "execution_count": null,
      "outputs": [
        {
          "output_type": "execute_result",
          "data": {
            "text/plain": [
              "array([15, 10])"
            ]
          },
          "metadata": {
            "tags": []
          },
          "execution_count": 52
        }
      ]
    },
    {
      "cell_type": "markdown",
      "metadata": {
        "id": "_KCgkFRmYMeO"
      },
      "source": [
        "## 8.5. Nhân ma trận với một scaler\n",
        "\n",
        "Khi nhân ma trận với một scaler chúng ta lấy từng phần tử của ma trận đó nhân với scaler."
      ]
    },
    {
      "cell_type": "code",
      "metadata": {
        "colab": {
          "base_uri": "https://localhost:8080/"
        },
        "id": "AgUEioWnYWoS",
        "outputId": "40618766-caa0-4fea-dabd-7ba9ccfb8cba"
      },
      "source": [
        "A*5"
      ],
      "execution_count": null,
      "outputs": [
        {
          "output_type": "execute_result",
          "data": {
            "text/plain": [
              "array([[ 5, 20, 10],\n",
              "       [15, 10,  5]])"
            ]
          },
          "metadata": {
            "tags": []
          },
          "execution_count": 53
        }
      ]
    },
    {
      "cell_type": "markdown",
      "metadata": {
        "id": "Eo0Ha4EWo0nZ"
      },
      "source": [
        "# 9. Các phép toán trên véc tơ\n",
        "\n",
        "Với hai véc tơ $\\mathbf{a} = (a_1, a_2, \\dots, a_n)$ và $\\mathbf{b} = (b_1, b_2, \\dots, b_n) $ có cùng kích thước. Chúng ta có một số phép toán chính được tính trên hai véc tơ này như sau:\n",
        "\n",
        "* **Phép cộng, trừ:**\n",
        "$$\\mathbf{a}+\\mathbf{b} = (a_1 + b_1, a_2 + b_2, \\dots, a_n + b_n)$$\n",
        "\n",
        "* **Tích vô hướng:** Tích vô hướng giữa hai véc tơ là một số vô hướng.\n",
        "\n",
        "$$\\langle \\mathbf{a}, \\mathbf{b}\\rangle = (a_1b_1+a_2b_2+\\dots+a_nb_n)$$\n",
        "\n",
        "* **Tích có hướng:** Tích có hướng giữa hai véc tơ là một véc tơ.\n",
        "$$\\mathbf{a}.\\mathbf{b} = (a_1b_1, a_2b_2, \\dots , a_nb_n)$$\n",
        "\n",
        "\n",
        "* **Độ đo cosine (cosine-similarity):** Đây là độ đo được sử dụng rất phổ biến để tính toán sự tương đương giữa hai véc tơ đặc trưng. Chẳng hạn như trong faceid chúng ta mã hoá các bức ảnh face-crop dưới dạng những véc tơ và nhận diện người dùng bằng cách tính tương quan véc tơ có sẵn trong database với face của người đó.\n",
        "$$\\text{cosine}(\\mathbf{a}, \\mathbf{b}) = \\frac{\\sum_{i=1}^{n} a_i b_i}{\\sqrt{\\sum_{i=1}^{n} a_i^2}\\sqrt{\\sum_{i=1}^{n} b_i^2}}$$"
      ]
    },
    {
      "cell_type": "code",
      "metadata": {
        "colab": {
          "base_uri": "https://localhost:8080/"
        },
        "id": "iN0_ewT7ugvS",
        "outputId": "b8ae7dfa-eee9-4d2f-a3b0-db27e4d8cee1"
      },
      "source": [
        "a = np.array([1, 2, 3])\n",
        "b = np.array([4, 5, 5])\n",
        "# Phép cộng\n",
        "a+b\n",
        "# Tích vô hướng\n",
        "a.dot(b)\n",
        "# Tích có hướng\n",
        "a*b\n",
        "# cosine similarity\n",
        "a.dot(b)/(np.linalg.norm(a)*np.linalg.norm(b))"
      ],
      "execution_count": null,
      "outputs": [
        {
          "output_type": "execute_result",
          "data": {
            "text/plain": [
              "0.954029957691665"
            ]
          },
          "metadata": {
            "tags": []
          },
          "execution_count": 73
        }
      ]
    },
    {
      "cell_type": "code",
      "metadata": {
        "colab": {
          "base_uri": "https://localhost:8080/"
        },
        "id": "6UblLeScvRM1",
        "outputId": "1d47c248-bb93-4ac8-d40e-3cb158a44c14"
      },
      "source": [
        "# Hoặc cách khác để tính cosine similarity\n",
        "from sklearn.metrics.pairwise import cosine_similarity\n",
        "a = np.array([[1, 2, 3]])\n",
        "b = np.array([[4, 5, 5]])\n",
        "\n",
        "cosine_similarity(a, b)"
      ],
      "execution_count": null,
      "outputs": [
        {
          "output_type": "execute_result",
          "data": {
            "text/plain": [
              "array([[0.95402996]])"
            ]
          },
          "metadata": {
            "tags": []
          },
          "execution_count": 74
        }
      ]
    },
    {
      "cell_type": "markdown",
      "metadata": {
        "id": "9xDCK2IIp0-n"
      },
      "source": [
        "* **Chuẩn của véc tơ:** Về khái niệm chuẩn của véc tơ bạn có thể xem tại [chuẩn véc tơ](https://phamdinhkhanh.github.io/deepai-book/ch_algebra/appendix_algebra.html#khai-niem-chuan)"
      ]
    },
    {
      "cell_type": "markdown",
      "metadata": {
        "id": "-2aLtxSMwclU"
      },
      "source": [
        "**Bài tập:** Khi nào thì hai véc tơ có độ đo _cosine_ bằng 1 và -1?"
      ]
    },
    {
      "cell_type": "markdown",
      "metadata": {
        "id": "EQXSopp7y0mj"
      },
      "source": [
        "# 10. Thành phần của mảng\n",
        "\n",
        "Mỗi một mảng sẽ đặc trưng bởi các thuộc tính của nó như định dạng, kích thước, số chiều, bộ nhớ. Trong tính toán ma trận, những thuộc tính này sẽ hữu ích để kiểm tra lỗi. Ví dụ muốn biết được ma trận A có nhân được với ma trận B hay không thì chúng ta phải kiểm tra shape của ma trận A và shape của ma trận B xem số dòng của A có bằng với số cột của B không? Kiểm tra kích thước bộ nhớ cũng giúp ta ước lượng dung lượng cần lưu cho những mảng có kích thước lớn. Từ đó sẽ biết được bộ nhớ của máy tính có khả năng tải được chúng hay không ? Nếu mảng không yêu cầu độ chính xác quá cao thì có thể chuyển sang một định dạng có độ chính xác thấp hơn và tiêu tốn ít bộ nhớ hơn."
      ]
    },
    {
      "cell_type": "code",
      "metadata": {
        "id": "seiQwX6fNBT0",
        "colab": {
          "base_uri": "https://localhost:8080/"
        },
        "outputId": "33b0a063-f887-4cfc-cf9e-6c1fc1e313cd"
      },
      "source": [
        "print('shape: ', A.shape)\n",
        "print('number dims: ', A.ndim)\n",
        "print('dtype: ', A.dtype)\n",
        "print('item bytes size: ', A.itemsize)\n",
        "print('bytes size: ', A.nbytes)"
      ],
      "execution_count": null,
      "outputs": [
        {
          "output_type": "stream",
          "text": [
            "shape:  (2, 3)\n",
            "number dims:  2\n",
            "dtype:  int64\n",
            "item bytes size:  8\n",
            "bytes size:  48\n"
          ],
          "name": "stdout"
        }
      ]
    },
    {
      "cell_type": "markdown",
      "metadata": {
        "id": "rv5Gow9_O7WA"
      },
      "source": [
        "Ngoài ra các thuộc tính của một mảng còn được thể hiện trong `flags`."
      ]
    },
    {
      "cell_type": "code",
      "metadata": {
        "id": "fBxorD-lM9XU",
        "colab": {
          "base_uri": "https://localhost:8080/"
        },
        "outputId": "462cd458-f83a-45ff-f00c-5e464436b41e"
      },
      "source": [
        "A.flags"
      ],
      "execution_count": null,
      "outputs": [
        {
          "output_type": "execute_result",
          "data": {
            "text/plain": [
              "  C_CONTIGUOUS : True\n",
              "  F_CONTIGUOUS : False\n",
              "  OWNDATA : True\n",
              "  WRITEABLE : True\n",
              "  ALIGNED : True\n",
              "  WRITEBACKIFCOPY : False\n",
              "  UPDATEIFCOPY : False"
            ]
          },
          "metadata": {
            "tags": []
          },
          "execution_count": 55
        }
      ]
    },
    {
      "cell_type": "markdown",
      "metadata": {
        "id": "E6IKRNS8PI-Y"
      },
      "source": [
        "Từ các flags ta có thể thấy mảng `A` là mảng có thể sửa được (`WRITEABLE=TRUE`). Mảng `A` có cách sắp xếp các phần tử liên tiếp theo kiểu của ngôn ngữ C chứ không phải Fortran (`C_CONTIGUOUS = TRUE, F_CONTIGUOUS = FALSE`)."
      ]
    },
    {
      "cell_type": "markdown",
      "metadata": {
        "id": "3bWHReiCJW-z"
      },
      "source": [
        "# 11. Bài tập\n",
        "\n",
        "Cho ma trận $\\mathbf{A}$"
      ]
    },
    {
      "cell_type": "code",
      "metadata": {
        "id": "LRnZmc94l6rR"
      },
      "source": [
        "import numpy as np\n",
        "\n",
        "A = np.array([[10, 1, 2],\n",
        "              [9, 7, 4],\n",
        "              [0, 2, 1]])\n",
        "\n",
        "B = np.array([[2, 3, 4],\n",
        "              [0, 4, 2],\n",
        "              [3, 2, 1]])"
      ],
      "execution_count": null,
      "outputs": []
    },
    {
      "cell_type": "code",
      "metadata": {
        "colab": {
          "base_uri": "https://localhost:8080/"
        },
        "id": "h5cv_my9vib7",
        "outputId": "abe81a02-44bb-4f9f-cec7-8102265d0d8c"
      },
      "source": [
        "# 1\n",
        "A.dot(B)\n",
        "# 2\n",
        "print(B.dot(A.T).dot(A).dot(B.T))\n",
        "# 3\n",
        "print(A.dot(B.T).dot(B).dot(A.T))"
      ],
      "execution_count": null,
      "outputs": [
        {
          "output_type": "stream",
          "text": [
            "[[4086 2328 3579]\n",
            " [2328 1460 1942]\n",
            " [3579 1942 3206]]\n",
            "[[2181 3523  560]\n",
            " [3523 6346 1135]\n",
            " [ 560 1135  225]]\n"
          ],
          "name": "stdout"
        }
      ]
    },
    {
      "cell_type": "code",
      "metadata": {
        "colab": {
          "base_uri": "https://localhost:8080/"
        },
        "id": "v6NK4dIfwcXh",
        "outputId": "cc169388-5254-49d5-d3e8-c580f4ee3dd8"
      },
      "source": [
        "# 4\n",
        "np.linalg.matrix_rank(A)\n",
        "# 5\n",
        "np.linalg.det(A)\n",
        "# 6\n",
        "np.linalg.pinv(A)\n",
        "# 7\n",
        "np.trace(A)\n",
        "# 8\n",
        "np.concatenate((A, B) , axis=1)\n",
        "# 9 \n",
        "A.reshape(-1)\n",
        "# 10\n",
        "B = np.exp(A)\n",
        "D = B.sum(axis=1)\n",
        "C = []\n",
        "for i in range(D.shape[0]):\n",
        "  Ci = B[i, :]/D[i]\n",
        "  C.append(Ci)\n",
        "C = np.array(C)\n",
        "C"
      ],
      "execution_count": null,
      "outputs": [
        {
          "output_type": "execute_result",
          "data": {
            "text/plain": [
              "array([[9.99541338e-01, 1.23353201e-04, 3.35308764e-04],\n",
              "       [8.75600595e-01, 1.18499655e-01, 5.89975040e-03],\n",
              "       [9.00305732e-02, 6.65240956e-01, 2.44728471e-01]])"
            ]
          },
          "metadata": {
            "tags": []
          },
          "execution_count": 26
        }
      ]
    },
    {
      "cell_type": "code",
      "metadata": {
        "colab": {
          "base_uri": "https://localhost:8080/"
        },
        "id": "p8epmGTqzeFR",
        "outputId": "6e3ea01e-1bf2-4479-c6f9-2d018b1daad7"
      },
      "source": [
        "# 11\n",
        "np.argmax(C, axis=1)\n",
        "# 12\n",
        "np.min(A, axis=1)\n",
        "np.max(A, axis=1)\n",
        "np.mean(A, axis=1)\n",
        "np.sum(A, axis=1)"
      ],
      "execution_count": null,
      "outputs": [
        {
          "output_type": "execute_result",
          "data": {
            "text/plain": [
              "array([13, 20,  3])"
            ]
          },
          "metadata": {
            "tags": []
          },
          "execution_count": 30
        }
      ]
    },
    {
      "cell_type": "markdown",
      "metadata": {
        "id": "MbMTBQDXmJBk"
      },
      "source": [
        "Thực hiện các phép tính:\n",
        "\n",
        "1) $\\mathbf{A}\\mathbf{B}$\n",
        "\n",
        "2) $\\mathbf{B}\\mathbf{A}^{\\intercal}\\mathbf{A}\\mathbf{B}^{\\intercal}$\n",
        "\n",
        "3) $\\mathbf{A}\\mathbf{B}^{\\intercal}\\mathbf{B}\\mathbf{A}^{\\intercal}$\n",
        "\n",
        "Nhận xét gì về hai ma trận thu được ở biểu thức 2 và biểu thức 3.\n",
        "\n",
        "4) $\\text{rank}(\\mathbf{A})$\n",
        "\n",
        "5) $\\text{det}(\\mathbf{A})$\n",
        "\n",
        "6) $\\mathbf{A}^{-1}$\n",
        "\n",
        "7) $\\text{trace}(\\mathbf{A})$\n",
        "\n",
        "Thực hiện các phép biến đổi shape ma trận:\n",
        "\n",
        "8) concatenate ma trận $\\mathbf{A}$ và ma trận $\\mathbf{B}$ theo dòng.\n",
        "\n",
        "9) Reshape ma trận $\\mathbf{A}$ thành véc tơ\n",
        "\n",
        "Tính toán:\n",
        "\n",
        "10) Phân phối xác suất sau khi đi qua hàm softmax các dòng của $\\mathbf{A}$\n",
        "\n",
        "11) Tìm ra nhãn dự báo cho mỗi dòng.\n",
        "\n",
        "12) Tính tổng, trung bình, min, max của mỗi dòng."
      ]
    },
    {
      "cell_type": "markdown",
      "metadata": {
        "id": "1lJtX0m9w6Aj"
      },
      "source": [
        "# 12. Tài liệu"
      ]
    },
    {
      "cell_type": "markdown",
      "metadata": {
        "id": "v6xBrGY2lBx4"
      },
      "source": [
        "1. [numpy doc](https://numpy.org/doc/)\n",
        "\n",
        "2. [numpy w3school](https://www.w3schools.com/python/numpy/numpy_intro.asp)\n",
        "\n",
        "3. [numpy tutorialspoint](https://www.tutorialspoint.com/numpy/numpy_indexing_and_slicing.htm)\n",
        "\n",
        "4. [numpy cs231](https://cs231n.github.io/python-numpy-tutorial/)"
      ]
    }
  ]
}